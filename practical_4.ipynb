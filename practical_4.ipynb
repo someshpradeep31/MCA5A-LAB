{
  "nbformat": 4,
  "nbformat_minor": 0,
  "metadata": {
    "colab": {
      "name": "practical 4",
      "provenance": [],
      "authorship_tag": "ABX9TyNcbOTOcs87U5VNXM/aomp+",
      "include_colab_link": true
    },
    "kernelspec": {
      "display_name": "Python 3",
      "name": "python3"
    }
  },
  "cells": [
    {
      "cell_type": "markdown",
      "metadata": {
        "id": "view-in-github",
        "colab_type": "text"
      },
      "source": [
        "<a href=\"https://colab.research.google.com/github/someshpradeep31/MCA5A-LAB/blob/master/practical_4.ipynb\" target=\"_parent\"><img src=\"https://colab.research.google.com/assets/colab-badge.svg\" alt=\"Open In Colab\"/></a>"
      ]
    },
    {
      "cell_type": "code",
      "metadata": {
        "id": "8jvH4DRj1eAB"
      },
      "source": [
        "#importing required libraries\r\n",
        "from sklearn.preprocessing import MinMaxScaler\r\n",
        "from keras.models import Sequential\r\n",
        "from keras.layers import Dense, Dropout, LSTM\r\n",
        "#import packages\r\n",
        "import pandas as pd\r\n",
        "import numpy as np\r\n",
        "#to plot within notebook\r\n",
        "import matplotlib.pyplot as plt\r\n",
        "%matplotlib inline\r\n",
        "#setting figure size\r\n",
        "from matplotlib.pylab import rcParams\r\n",
        "rcParams['figure.figsize'] = 20,10\r\n",
        "#for normalizing data\r\n",
        "#from sklearn.preprocessing import MinMaxScaler\r\n",
        "scaler = MinMaxScaler(feature_range=(0, 1))"
      ],
      "execution_count": 16,
      "outputs": []
    },
    {
      "cell_type": "code",
      "metadata": {
        "colab": {
          "base_uri": "https://localhost:8080/",
          "height": 411
        },
        "id": "V0i7foBK1tIE",
        "outputId": "badb4e48-4fe5-435e-dcd1-83d979ab54e1"
      },
      "source": [
        "#read the file\r\n",
        "df = pd.read_csv(\"/content/NSE-Tata-Global-Beverages-Limited.csv\")\r\n",
        "df"
      ],
      "execution_count": 8,
      "outputs": [
        {
          "output_type": "execute_result",
          "data": {
            "text/html": [
              "<div>\n",
              "<style scoped>\n",
              "    .dataframe tbody tr th:only-of-type {\n",
              "        vertical-align: middle;\n",
              "    }\n",
              "\n",
              "    .dataframe tbody tr th {\n",
              "        vertical-align: top;\n",
              "    }\n",
              "\n",
              "    .dataframe thead th {\n",
              "        text-align: right;\n",
              "    }\n",
              "</style>\n",
              "<table border=\"1\" class=\"dataframe\">\n",
              "  <thead>\n",
              "    <tr style=\"text-align: right;\">\n",
              "      <th></th>\n",
              "      <th>Date</th>\n",
              "      <th>Open</th>\n",
              "      <th>High</th>\n",
              "      <th>Low</th>\n",
              "      <th>Last</th>\n",
              "      <th>Close</th>\n",
              "      <th>Total Trade Quantity</th>\n",
              "      <th>Turnover (Lacs)</th>\n",
              "    </tr>\n",
              "  </thead>\n",
              "  <tbody>\n",
              "    <tr>\n",
              "      <th>0</th>\n",
              "      <td>2018-10-08</td>\n",
              "      <td>208.00</td>\n",
              "      <td>222.25</td>\n",
              "      <td>206.85</td>\n",
              "      <td>216.00</td>\n",
              "      <td>215.15</td>\n",
              "      <td>4642146.0</td>\n",
              "      <td>10062.83</td>\n",
              "    </tr>\n",
              "    <tr>\n",
              "      <th>1</th>\n",
              "      <td>2018-10-05</td>\n",
              "      <td>217.00</td>\n",
              "      <td>218.60</td>\n",
              "      <td>205.90</td>\n",
              "      <td>210.25</td>\n",
              "      <td>209.20</td>\n",
              "      <td>3519515.0</td>\n",
              "      <td>7407.06</td>\n",
              "    </tr>\n",
              "    <tr>\n",
              "      <th>2</th>\n",
              "      <td>2018-10-04</td>\n",
              "      <td>223.50</td>\n",
              "      <td>227.80</td>\n",
              "      <td>216.15</td>\n",
              "      <td>217.25</td>\n",
              "      <td>218.20</td>\n",
              "      <td>1728786.0</td>\n",
              "      <td>3815.79</td>\n",
              "    </tr>\n",
              "    <tr>\n",
              "      <th>3</th>\n",
              "      <td>2018-10-03</td>\n",
              "      <td>230.00</td>\n",
              "      <td>237.50</td>\n",
              "      <td>225.75</td>\n",
              "      <td>226.45</td>\n",
              "      <td>227.60</td>\n",
              "      <td>1708590.0</td>\n",
              "      <td>3960.27</td>\n",
              "    </tr>\n",
              "    <tr>\n",
              "      <th>4</th>\n",
              "      <td>2018-10-01</td>\n",
              "      <td>234.55</td>\n",
              "      <td>234.60</td>\n",
              "      <td>221.05</td>\n",
              "      <td>230.30</td>\n",
              "      <td>230.90</td>\n",
              "      <td>1534749.0</td>\n",
              "      <td>3486.05</td>\n",
              "    </tr>\n",
              "    <tr>\n",
              "      <th>...</th>\n",
              "      <td>...</td>\n",
              "      <td>...</td>\n",
              "      <td>...</td>\n",
              "      <td>...</td>\n",
              "      <td>...</td>\n",
              "      <td>...</td>\n",
              "      <td>...</td>\n",
              "      <td>...</td>\n",
              "    </tr>\n",
              "    <tr>\n",
              "      <th>1230</th>\n",
              "      <td>2013-10-14</td>\n",
              "      <td>160.85</td>\n",
              "      <td>161.45</td>\n",
              "      <td>157.70</td>\n",
              "      <td>159.30</td>\n",
              "      <td>159.45</td>\n",
              "      <td>1281419.0</td>\n",
              "      <td>2039.09</td>\n",
              "    </tr>\n",
              "    <tr>\n",
              "      <th>1231</th>\n",
              "      <td>2013-10-11</td>\n",
              "      <td>161.15</td>\n",
              "      <td>163.45</td>\n",
              "      <td>159.00</td>\n",
              "      <td>159.80</td>\n",
              "      <td>160.05</td>\n",
              "      <td>1880046.0</td>\n",
              "      <td>3030.76</td>\n",
              "    </tr>\n",
              "    <tr>\n",
              "      <th>1232</th>\n",
              "      <td>2013-10-10</td>\n",
              "      <td>156.00</td>\n",
              "      <td>160.80</td>\n",
              "      <td>155.85</td>\n",
              "      <td>160.30</td>\n",
              "      <td>160.15</td>\n",
              "      <td>3124853.0</td>\n",
              "      <td>4978.80</td>\n",
              "    </tr>\n",
              "    <tr>\n",
              "      <th>1233</th>\n",
              "      <td>2013-10-09</td>\n",
              "      <td>155.70</td>\n",
              "      <td>158.20</td>\n",
              "      <td>154.15</td>\n",
              "      <td>155.30</td>\n",
              "      <td>155.55</td>\n",
              "      <td>2049580.0</td>\n",
              "      <td>3204.49</td>\n",
              "    </tr>\n",
              "    <tr>\n",
              "      <th>1234</th>\n",
              "      <td>2013-10-08</td>\n",
              "      <td>157.00</td>\n",
              "      <td>157.80</td>\n",
              "      <td>155.20</td>\n",
              "      <td>155.80</td>\n",
              "      <td>155.80</td>\n",
              "      <td>1720413.0</td>\n",
              "      <td>2688.94</td>\n",
              "    </tr>\n",
              "  </tbody>\n",
              "</table>\n",
              "<p>1235 rows × 8 columns</p>\n",
              "</div>"
            ],
            "text/plain": [
              "            Date    Open    High  ...   Close  Total Trade Quantity  Turnover (Lacs)\n",
              "0     2018-10-08  208.00  222.25  ...  215.15             4642146.0         10062.83\n",
              "1     2018-10-05  217.00  218.60  ...  209.20             3519515.0          7407.06\n",
              "2     2018-10-04  223.50  227.80  ...  218.20             1728786.0          3815.79\n",
              "3     2018-10-03  230.00  237.50  ...  227.60             1708590.0          3960.27\n",
              "4     2018-10-01  234.55  234.60  ...  230.90             1534749.0          3486.05\n",
              "...          ...     ...     ...  ...     ...                   ...              ...\n",
              "1230  2013-10-14  160.85  161.45  ...  159.45             1281419.0          2039.09\n",
              "1231  2013-10-11  161.15  163.45  ...  160.05             1880046.0          3030.76\n",
              "1232  2013-10-10  156.00  160.80  ...  160.15             3124853.0          4978.80\n",
              "1233  2013-10-09  155.70  158.20  ...  155.55             2049580.0          3204.49\n",
              "1234  2013-10-08  157.00  157.80  ...  155.80             1720413.0          2688.94\n",
              "\n",
              "[1235 rows x 8 columns]"
            ]
          },
          "metadata": {
            "tags": []
          },
          "execution_count": 8
        }
      ]
    },
    {
      "cell_type": "code",
      "metadata": {
        "id": "pjIdBmctEJg9"
      },
      "source": [
        "#creating dataframe\r\n",
        "data = df.sort_index(ascending=True, axis=0)\r\n",
        "new_data = pd.DataFrame(index=range(0,len(df)),columns=['Date', 'Close'])\r\n",
        "for i in range(0,len(data)):\r\n",
        "    new_data['Date'][i] = data['Date'][i]\r\n",
        "    new_data['Close'][i] = data['Close'][i]"
      ],
      "execution_count": 10,
      "outputs": []
    },
    {
      "cell_type": "code",
      "metadata": {
        "colab": {
          "base_uri": "https://localhost:8080/",
          "height": 200
        },
        "id": "Cu-wkmkgHIPx",
        "outputId": "898cb6a8-b68a-46c8-b25f-20f0ea197ea7"
      },
      "source": [
        "new_data.head()"
      ],
      "execution_count": 13,
      "outputs": [
        {
          "output_type": "execute_result",
          "data": {
            "text/html": [
              "<div>\n",
              "<style scoped>\n",
              "    .dataframe tbody tr th:only-of-type {\n",
              "        vertical-align: middle;\n",
              "    }\n",
              "\n",
              "    .dataframe tbody tr th {\n",
              "        vertical-align: top;\n",
              "    }\n",
              "\n",
              "    .dataframe thead th {\n",
              "        text-align: right;\n",
              "    }\n",
              "</style>\n",
              "<table border=\"1\" class=\"dataframe\">\n",
              "  <thead>\n",
              "    <tr style=\"text-align: right;\">\n",
              "      <th></th>\n",
              "      <th>Date</th>\n",
              "      <th>Close</th>\n",
              "    </tr>\n",
              "  </thead>\n",
              "  <tbody>\n",
              "    <tr>\n",
              "      <th>0</th>\n",
              "      <td>2018-10-08</td>\n",
              "      <td>215.15</td>\n",
              "    </tr>\n",
              "    <tr>\n",
              "      <th>1</th>\n",
              "      <td>2018-10-05</td>\n",
              "      <td>209.2</td>\n",
              "    </tr>\n",
              "    <tr>\n",
              "      <th>2</th>\n",
              "      <td>2018-10-04</td>\n",
              "      <td>218.2</td>\n",
              "    </tr>\n",
              "    <tr>\n",
              "      <th>3</th>\n",
              "      <td>2018-10-03</td>\n",
              "      <td>227.6</td>\n",
              "    </tr>\n",
              "    <tr>\n",
              "      <th>4</th>\n",
              "      <td>2018-10-01</td>\n",
              "      <td>230.9</td>\n",
              "    </tr>\n",
              "  </tbody>\n",
              "</table>\n",
              "</div>"
            ],
            "text/plain": [
              "         Date   Close\n",
              "0  2018-10-08  215.15\n",
              "1  2018-10-05   209.2\n",
              "2  2018-10-04   218.2\n",
              "3  2018-10-03   227.6\n",
              "4  2018-10-01   230.9"
            ]
          },
          "metadata": {
            "tags": []
          },
          "execution_count": 13
        }
      ]
    },
    {
      "cell_type": "code",
      "metadata": {
        "id": "FAuXpD9QHT0w"
      },
      "source": [
        "# #setting index\r\n",
        "# new_data.index = new_data.Date\r\n",
        "# new_data.drop('Date', axis=1, inplace=True)\r\n",
        "#creating train and test sets\r\n",
        "dataset = new_data.values\r\n",
        "train = dataset[0:987,:]\r\n",
        "valid = dataset[987:,:]"
      ],
      "execution_count": 18,
      "outputs": []
    },
    {
      "cell_type": "code",
      "metadata": {
        "colab": {
          "base_uri": "https://localhost:8080/"
        },
        "id": "ebG_SzN0HsKL",
        "outputId": "4d63ad20-ad28-42d9-da2c-861c2e9da0e1"
      },
      "source": [
        "print(len(train))\r\n",
        "len(valid)"
      ],
      "execution_count": 21,
      "outputs": [
        {
          "output_type": "stream",
          "text": [
            "987\n"
          ],
          "name": "stdout"
        },
        {
          "output_type": "execute_result",
          "data": {
            "text/plain": [
              "248"
            ]
          },
          "metadata": {
            "tags": []
          },
          "execution_count": 21
        }
      ]
    },
    {
      "cell_type": "code",
      "metadata": {
        "id": "2MDtC_a3H2bX"
      },
      "source": [
        "#converting dataset into x_train and y_train\r\n",
        "scaler = MinMaxScaler(feature_range=(0, 1))\r\n",
        "scaled_data = scaler.fit_transform(dataset)"
      ],
      "execution_count": 22,
      "outputs": []
    },
    {
      "cell_type": "code",
      "metadata": {
        "id": "k-mcerkOH-BX"
      },
      "source": [
        "x_train, y_train = [], []\r\n",
        "for i in range(60,len(train)):\r\n",
        "    x_train.append(scaled_data[i-60:i,0])\r\n",
        "    y_train.append(scaled_data[i,0])\r\n",
        "x_train, y_train = np.array(x_train), np.array(y_train)\r\n",
        "x_train = np.reshape(x_train, (x_train.shape[0],x_train.shape[1],1))"
      ],
      "execution_count": 24,
      "outputs": []
    },
    {
      "cell_type": "code",
      "metadata": {
        "id": "ISgWvylkIMs1"
      },
      "source": [
        "# create and fit the LSTM network\r\n",
        "model = Sequential()\r\n",
        "model.add(LSTM(units=50, return_sequences=True, input_shape=(x_train.shape[1],1)))\r\n",
        "model.add(LSTM(units=50))\r\n",
        "model.add(Dense(1))"
      ],
      "execution_count": 25,
      "outputs": []
    },
    {
      "cell_type": "code",
      "metadata": {
        "colab": {
          "base_uri": "https://localhost:8080/"
        },
        "id": "gR365b6jITwB",
        "outputId": "8c75fd89-11b1-4bc9-8b64-cbd4115d869d"
      },
      "source": [
        "model.compile(loss='mean_squared_error', optimizer='adam')\r\n",
        "model.fit(x_train, y_train, epochs=1, batch_size=1, verbose=2)"
      ],
      "execution_count": 26,
      "outputs": [
        {
          "output_type": "stream",
          "text": [
            "927/927 - 21s - loss: 0.0035\n"
          ],
          "name": "stdout"
        },
        {
          "output_type": "execute_result",
          "data": {
            "text/plain": [
              "<tensorflow.python.keras.callbacks.History at 0x7fa8e21050d0>"
            ]
          },
          "metadata": {
            "tags": []
          },
          "execution_count": 26
        }
      ]
    },
    {
      "cell_type": "code",
      "metadata": {
        "id": "24mNqpjcIdcV"
      },
      "source": [
        "#predicting 246 values, using past 60 from the train data\r\n",
        "inputs = new_data[len(new_data) - len(valid) - 60:].values\r\n",
        "inputs = inputs.reshape(-1,1)\r\n",
        "inputs  = scaler.transform(inputs)"
      ],
      "execution_count": 27,
      "outputs": []
    },
    {
      "cell_type": "code",
      "metadata": {
        "id": "PX4vV-G6Ili8"
      },
      "source": [
        "X_test = []\r\n",
        "for i in range(60,inputs.shape[0]):\r\n",
        "    X_test.append(inputs[i-60:i,0])\r\n",
        "X_test = np.array(X_test)"
      ],
      "execution_count": 28,
      "outputs": []
    },
    {
      "cell_type": "code",
      "metadata": {
        "id": "vloVMW-3IqdV"
      },
      "source": [
        "X_test = np.reshape(X_test, (X_test.shape[0],X_test.shape[1],1))\r\n",
        "closing_price = model.predict(X_test)\r\n",
        "closing_price = scaler.inverse_transform(closing_price)"
      ],
      "execution_count": 29,
      "outputs": []
    },
    {
      "cell_type": "code",
      "metadata": {
        "colab": {
          "base_uri": "https://localhost:8080/"
        },
        "id": "0_ZhFihuI4RL",
        "outputId": "ab9de54a-3850-4172-94d7-ef4872c2db4b"
      },
      "source": [
        "rms=np.sqrt(np.mean(np.power((valid-closing_price),2)))\r\n",
        "rms"
      ],
      "execution_count": 30,
      "outputs": [
        {
          "output_type": "execute_result",
          "data": {
            "text/plain": [
              "5.1609462471185354"
            ]
          },
          "metadata": {
            "tags": []
          },
          "execution_count": 30
        }
      ]
    },
    {
      "cell_type": "code",
      "metadata": {
        "colab": {
          "base_uri": "https://localhost:8080/",
          "height": 676
        },
        "id": "s_lzeA93I8w4",
        "outputId": "393c1677-4b5a-403c-a52e-208da81e4c2a"
      },
      "source": [
        "#for plotting\r\n",
        "train = new_data[:987]\r\n",
        "valid = new_data[987:]\r\n",
        "valid['Predictions'] = closing_price\r\n",
        "plt.plot(train['Close'])\r\n",
        "plt.plot(valid[['Close','Predictions']])"
      ],
      "execution_count": 31,
      "outputs": [
        {
          "output_type": "stream",
          "text": [
            "/usr/local/lib/python3.7/dist-packages/ipykernel_launcher.py:7: SettingWithCopyWarning: \n",
            "A value is trying to be set on a copy of a slice from a DataFrame.\n",
            "Try using .loc[row_indexer,col_indexer] = value instead\n",
            "\n",
            "See the caveats in the documentation: https://pandas.pydata.org/pandas-docs/stable/user_guide/indexing.html#returning-a-view-versus-a-copy\n",
            "  import sys\n"
          ],
          "name": "stderr"
        },
        {
          "output_type": "execute_result",
          "data": {
            "text/plain": [
              "[<matplotlib.lines.Line2D at 0x7fa8df470850>,\n",
              " <matplotlib.lines.Line2D at 0x7fa8dec05590>]"
            ]
          },
          "metadata": {
            "tags": []
          },
          "execution_count": 31
        },
        {
          "output_type": "display_data",
          "data": {
            "image/png": "[encoded data removed]",
            "text/plain": [
              "<Figure size 1440x720 with 1 Axes>"
            ]
          },
          "metadata": {
            "tags": [],
            "needs_background": "light"
          }
        }
      ]
    }
  ]
}