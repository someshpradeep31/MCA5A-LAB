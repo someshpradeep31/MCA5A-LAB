{
  "nbformat": 4,
  "nbformat_minor": 0,
  "metadata": {
    "anaconda-cloud": {},
    "kernelspec": {
      "display_name": "Python 3",
      "language": "python",
      "name": "python3"
    },
    "language_info": {
      "codemirror_mode": {
        "name": "ipython",
        "version": 3
      },
      "file_extension": ".py",
      "mimetype": "text/x-python",
      "name": "python",
      "nbconvert_exporter": "python",
      "pygments_lexer": "ipython3",
      "version": "3.5.1"
    },
    "colab": {
      "name": "Copy of Index.ipynb",
      "provenance": [],
      "include_colab_link": true
    }
  },
  "cells": [
    {
      "cell_type": "markdown",
      "metadata": {
        "id": "view-in-github",
        "colab_type": "text"
      },
      "source": [
        "<a href=\"https://colab.research.google.com/github/someshpradeep31/MCA5A-LAB/blob/master/Copy_of_Index.ipynb\" target=\"_parent\"><img src=\"https://colab.research.google.com/assets/colab-badge.svg\" alt=\"Open In Colab\"/></a>"
      ]
    },
    {
      "cell_type": "markdown",
      "metadata": {
        "id": "aXinzut-wiDc"
      },
      "source": [
        "# Python Data Science Handbook"
      ]
    },
    {
      "cell_type": "code",
      "metadata": {
        "id": "tsYuVL5dwmkr"
      },
      "source": [
        "import tensorflow as tf\r\n",
        "import numpy as np"
      ],
      "execution_count": 2,
      "outputs": []
    },
    {
      "cell_type": "code",
      "metadata": {
        "id": "KkpRbJEDxTwK",
        "colab": {
          "base_uri": "https://localhost:8080/"
        },
        "outputId": "f3cefdb1-f9b3-4acb-a09e-ae503fd45076"
      },
      "source": [
        "#this will be an int32 tensor by default\r\n",
        "rank_0_tensor=tf.constant(4)\r\n",
        "print(rank_0_tensor)"
      ],
      "execution_count": null,
      "outputs": [
        {
          "output_type": "stream",
          "text": [
            "tf.Tensor(4, shape=(), dtype=int32)\n"
          ],
          "name": "stdout"
        }
      ]
    },
    {
      "cell_type": "code",
      "metadata": {
        "id": "HXE9fz55xppp",
        "colab": {
          "base_uri": "https://localhost:8080/"
        },
        "outputId": "70dfa37e-571f-4ca3-e937-2cd65b06684d"
      },
      "source": [
        "rank_1_tensor=tf.constant([2.0,3.0,4.0])\r\n",
        "print(rank_1_tensor)"
      ],
      "execution_count": null,
      "outputs": [
        {
          "output_type": "stream",
          "text": [
            "tf.Tensor([2. 3. 4.], shape=(3,), dtype=float32)\n"
          ],
          "name": "stdout"
        }
      ]
    },
    {
      "cell_type": "code",
      "metadata": {
        "id": "B7mbuZByyB9_",
        "colab": {
          "base_uri": "https://localhost:8080/"
        },
        "outputId": "51b160e8-0f5f-4794-a526-0c3157871b3b"
      },
      "source": [
        "rank_2_tensor=tf.constant([[1,2],[3,4],[5,6]],dtype=tf.int32)\r\n",
        "print(rank_2_tensor)"
      ],
      "execution_count": null,
      "outputs": [
        {
          "output_type": "stream",
          "text": [
            "tf.Tensor(\n",
            "[[1 2]\n",
            " [3 4]\n",
            " [5 6]], shape=(3, 2), dtype=int32)\n"
          ],
          "name": "stdout"
        }
      ]
    },
    {
      "cell_type": "code",
      "metadata": {
        "id": "n7oSSj_hydrJ",
        "colab": {
          "base_uri": "https://localhost:8080/"
        },
        "outputId": "8b1f6dc3-a467-4ac3-bb21-e85a2ab04a4b"
      },
      "source": [
        "rank_3_tensor=tf.constant([[[1,2,3],[3,2,4]],[[2,3,4],[5,6,7]],[[6,7,8],[2,3,4]]] )\r\n",
        "print(rank_3_tensor)"
      ],
      "execution_count": null,
      "outputs": [
        {
          "output_type": "stream",
          "text": [
            "tf.Tensor(\n",
            "[[[1. 2. 3.]\n",
            "  [3. 2. 4.]]\n",
            "\n",
            " [[2. 3. 4.]\n",
            "  [5. 6. 7.]]\n",
            "\n",
            " [[6. 7. 8.]\n",
            "  [2. 3. 4.]]], shape=(3, 2, 3), dtype=float16)\n"
          ],
          "name": "stdout"
        }
      ]
    },
    {
      "cell_type": "code",
      "metadata": {
        "id": "MRpAxcOJzjjS",
        "colab": {
          "base_uri": "https://localhost:8080/"
        },
        "outputId": "57c5e46d-2bcd-4ea2-a70d-01d0c676c9ee"
      },
      "source": [
        "np.array(rank_3_tensor)"
      ],
      "execution_count": null,
      "outputs": [
        {
          "output_type": "execute_result",
          "data": {
            "text/plain": [
              "array([[[1., 2., 3.],\n",
              "        [3., 2., 4.]],\n",
              "\n",
              "       [[2., 3., 4.],\n",
              "        [5., 6., 7.]],\n",
              "\n",
              "       [[6., 7., 8.],\n",
              "        [2., 3., 4.]]], dtype=float16)"
            ]
          },
          "metadata": {
            "tags": []
          },
          "execution_count": 12
        }
      ]
    },
    {
      "cell_type": "code",
      "metadata": {
        "id": "0rcq5lBFzr0y",
        "colab": {
          "base_uri": "https://localhost:8080/"
        },
        "outputId": "d8db9279-17f2-499f-d132-391cb70cb877"
      },
      "source": [
        "rank_2_tensor.numpy()"
      ],
      "execution_count": null,
      "outputs": [
        {
          "output_type": "execute_result",
          "data": {
            "text/plain": [
              "array([[1, 2],\n",
              "       [3, 4],\n",
              "       [5, 6]], dtype=int32)"
            ]
          },
          "metadata": {
            "tags": []
          },
          "execution_count": 14
        }
      ]
    },
    {
      "cell_type": "code",
      "metadata": {
        "id": "tQIKQ-V30ifI",
        "colab": {
          "base_uri": "https://localhost:8080/"
        },
        "outputId": "27d8d5f5-a7fa-453d-d0a3-692f517fe777"
      },
      "source": [
        "a=tf.constant([[1,2],[2,2]])\r\n",
        "b=tf.constant([[2,3],[5,4]])\r\n",
        "print(tf.add(a,b))\r\n",
        "print(tf.multiply(a,b))\r\n",
        "print(tf.divide(a,b))\r\n",
        "print(tf.subtract(a,b))\r\n",
        "# matrix multuplication\r\n",
        "print(tf.matmul(a,b))"
      ],
      "execution_count": null,
      "outputs": [
        {
          "output_type": "stream",
          "text": [
            "tf.Tensor(\n",
            "[[3 5]\n",
            " [7 6]], shape=(2, 2), dtype=int32)\n",
            "tf.Tensor(\n",
            "[[ 2  6]\n",
            " [10  8]], shape=(2, 2), dtype=int32)\n",
            "tf.Tensor(\n",
            "[[0.5        0.66666667]\n",
            " [0.4        0.5       ]], shape=(2, 2), dtype=float64)\n",
            "tf.Tensor(\n",
            "[[-1 -1]\n",
            " [-3 -2]], shape=(2, 2), dtype=int32)\n",
            "tf.Tensor(\n",
            "[[12 11]\n",
            " [14 14]], shape=(2, 2), dtype=int32)\n"
          ],
          "name": "stdout"
        }
      ]
    },
    {
      "cell_type": "code",
      "metadata": {
        "id": "AfZDg_tE2Sq3",
        "colab": {
          "base_uri": "https://localhost:8080/"
        },
        "outputId": "d2fa6542-032e-4ea4-fa07-95db4c182ab2"
      },
      "source": [
        "print(a+b) #element wise addition\r\n",
        "print(a-b) #element wise subtraction\r\n",
        "print(a*b) #element wise multiplication\r\n",
        "print(a/b) #element wise division"
      ],
      "execution_count": null,
      "outputs": [
        {
          "output_type": "stream",
          "text": [
            "tf.Tensor(\n",
            "[[3 5]\n",
            " [7 6]], shape=(2, 2), dtype=int32)\n",
            "tf.Tensor(\n",
            "[[-1 -1]\n",
            " [-3 -2]], shape=(2, 2), dtype=int32)\n",
            "tf.Tensor(\n",
            "[[ 2  6]\n",
            " [10  8]], shape=(2, 2), dtype=int32)\n",
            "tf.Tensor(\n",
            "[[0.5        0.66666667]\n",
            " [0.4        0.5       ]], shape=(2, 2), dtype=float64)\n"
          ],
          "name": "stdout"
        }
      ]
    },
    {
      "cell_type": "code",
      "metadata": {
        "id": "KP8zG-Fh2rPq",
        "colab": {
          "base_uri": "https://localhost:8080/"
        },
        "outputId": "364001f2-d362-412a-dcbc-a7137e97cb75"
      },
      "source": [
        "print(a@b) #matrix multiplication"
      ],
      "execution_count": null,
      "outputs": [
        {
          "output_type": "stream",
          "text": [
            "tf.Tensor(\n",
            "[[12 11]\n",
            " [14 14]], shape=(2, 2), dtype=int32)\n"
          ],
          "name": "stdout"
        }
      ]
    },
    {
      "cell_type": "code",
      "metadata": {
        "id": "6pRz4pb72xtn",
        "colab": {
          "base_uri": "https://localhost:8080/"
        },
        "outputId": "ceddb523-1315-4e6e-a230-941dc7f85706"
      },
      "source": [
        "c=tf.constant([[1.0,2.0],[10.0,11.0]])\r\n",
        "print(tf.reduce_max(c)) #finds max value from matrix"
      ],
      "execution_count": null,
      "outputs": [
        {
          "output_type": "stream",
          "text": [
            "tf.Tensor(11.0, shape=(), dtype=float32)\n"
          ],
          "name": "stdout"
        }
      ]
    },
    {
      "cell_type": "code",
      "metadata": {
        "id": "FlVZ8ZLW3Dun",
        "colab": {
          "base_uri": "https://localhost:8080/"
        },
        "outputId": "0dddd8ef-7f9a-4b60-f7da-f5b03190b115"
      },
      "source": [
        "print(tf.argmax(c)) # finds index of max value"
      ],
      "execution_count": null,
      "outputs": [
        {
          "output_type": "stream",
          "text": [
            "tf.Tensor([1 1], shape=(2,), dtype=int64)\n"
          ],
          "name": "stdout"
        }
      ]
    },
    {
      "cell_type": "code",
      "metadata": {
        "id": "VfmrjDfr3PSL",
        "colab": {
          "base_uri": "https://localhost:8080/"
        },
        "outputId": "9cfe9ffa-d112-434f-deee-a29795e93f8d"
      },
      "source": [
        "print(tf.nn.softmax(c)) # calculates softmax function for each element"
      ],
      "execution_count": null,
      "outputs": [
        {
          "output_type": "stream",
          "text": [
            "tf.Tensor(\n",
            "[[0.26894143 0.7310586 ]\n",
            " [0.26894143 0.7310586 ]], shape=(2, 2), dtype=float32)\n"
          ],
          "name": "stdout"
        }
      ]
    },
    {
      "cell_type": "code",
      "metadata": {
        "id": "WYRB2cOn7h_m",
        "colab": {
          "base_uri": "https://localhost:8080/"
        },
        "outputId": "22d124ad-0846-4d76-9647-3c7bb80ea497"
      },
      "source": [
        "x=tf.constant([[1],[2],[3]])\r\n",
        "print(x.shape)"
      ],
      "execution_count": null,
      "outputs": [
        {
          "output_type": "stream",
          "text": [
            "(3, 1)\n"
          ],
          "name": "stdout"
        }
      ]
    },
    {
      "cell_type": "markdown",
      "metadata": {
        "id": "MMhL_7nMwiDi"
      },
      "source": [
        "*Jake VanderPlas*\n",
        "\n",
        "![Book Cover](https://github.com/jakevdp/PythonDataScienceHandbook/blob/master/notebooks/figures/PDSH-cover.png?raw=1)"
      ]
    },
    {
      "cell_type": "markdown",
      "metadata": {
        "id": "h6NW4wtiwiDj"
      },
      "source": [
        "This is the Jupyter notebook version of the [Python Data Science Handbook](http://shop.oreilly.com/product/0636920034919.do) by Jake VanderPlas; the content is available [on GitHub](https://github.com/jakevdp/PythonDataScienceHandbook).*\n",
        "The text is released under the [CC-BY-NC-ND license](https://creativecommons.org/licenses/by-nc-nd/3.0/us/legalcode), and code is released under the [MIT license](https://opensource.org/licenses/MIT). If you find this content useful, please consider supporting the work by [buying the book](http://shop.oreilly.com/product/0636920034919.do)!"
      ]
    },
    {
      "cell_type": "code",
      "metadata": {
        "colab": {
          "base_uri": "https://localhost:8080/"
        },
        "id": "rnD-D0MdA9xR",
        "outputId": "3cefda12-761e-4269-a05e-2da735863db5"
      },
      "source": [
        "rank_3_tensor=tf.constant([[[1,2,3],[3,2,4]],[[2,3,4],[5,6,7]],[[6,7,8],[2,3,4]]] )\r\n",
        "rank_3_tensor1=tf.constant([[[2,3,4],[3,4,5]],[[2,4,5],[5,3,1]],[[7,6,5],[2,1,3]]])\r\n",
        "print(tf.add(rank_3_tensor,rank_3_tensor1))\r\n"
      ],
      "execution_count": 12,
      "outputs": [
        {
          "output_type": "stream",
          "text": [
            "tf.Tensor(\n",
            "[[[ 3  5  7]\n",
            "  [ 6  6  9]]\n",
            "\n",
            " [[ 4  7  9]\n",
            "  [10  9  8]]\n",
            "\n",
            " [[13 13 13]\n",
            "  [ 4  4  7]]], shape=(3, 2, 3), dtype=int32)\n"
          ],
          "name": "stdout"
        }
      ]
    },
    {
      "cell_type": "code",
      "metadata": {
        "id": "dnF4PRjZRULL"
      },
      "source": [
        ""
      ],
      "execution_count": null,
      "outputs": []
    },
    {
      "cell_type": "code",
      "metadata": {
        "colab": {
          "base_uri": "https://localhost:8080/"
        },
        "id": "ml9bHy7yMhu0",
        "outputId": "cd3f69d1-d1b0-4c9a-ad9b-da1d39935749"
      },
      "source": [
        "print(tf.multiply(rank_3_tensor,rank_3_tensor1))\r\n"
      ],
      "execution_count": 13,
      "outputs": [
        {
          "output_type": "stream",
          "text": [
            "tf.Tensor(\n",
            "[[[ 2  6 12]\n",
            "  [ 9  8 20]]\n",
            "\n",
            " [[ 4 12 20]\n",
            "  [25 18  7]]\n",
            "\n",
            " [[42 42 40]\n",
            "  [ 4  3 12]]], shape=(3, 2, 3), dtype=int32)\n"
          ],
          "name": "stdout"
        }
      ]
    },
    {
      "cell_type": "code",
      "metadata": {
        "id": "whWcWfBCRWsN",
        "outputId": "57c230fc-06d8-4db8-8192-355fff088920",
        "colab": {
          "base_uri": "https://localhost:8080/"
        }
      },
      "source": [
        "print(tf.subtract(rank_3_tensor,rank_3_tensor1))\r\n"
      ],
      "execution_count": 14,
      "outputs": [
        {
          "output_type": "stream",
          "text": [
            "tf.Tensor(\n",
            "[[[-1 -1 -1]\n",
            "  [ 0 -2 -1]]\n",
            "\n",
            " [[ 0 -1 -1]\n",
            "  [ 0  3  6]]\n",
            "\n",
            " [[-1  1  3]\n",
            "  [ 0  2  1]]], shape=(3, 2, 3), dtype=int32)\n"
          ],
          "name": "stdout"
        }
      ]
    },
    {
      "cell_type": "code",
      "metadata": {
        "id": "5WB8ZbMQRYFI",
        "outputId": "fda642c5-fc4e-40a9-8624-bdb8ae12bfbf",
        "colab": {
          "base_uri": "https://localhost:8080/"
        }
      },
      "source": [
        "print(tf.divide(rank_3_tensor,rank_3_tensor1))"
      ],
      "execution_count": 15,
      "outputs": [
        {
          "output_type": "stream",
          "text": [
            "tf.Tensor(\n",
            "[[[0.5        0.66666667 0.75      ]\n",
            "  [1.         0.5        0.8       ]]\n",
            "\n",
            " [[1.         0.75       0.8       ]\n",
            "  [1.         2.         7.        ]]\n",
            "\n",
            " [[0.85714286 1.16666667 1.6       ]\n",
            "  [1.         3.         1.33333333]]], shape=(3, 2, 3), dtype=float64)\n"
          ],
          "name": "stdout"
        }
      ]
    },
    {
      "cell_type": "markdown",
      "metadata": {
        "id": "UprONs85wiDj"
      },
      "source": [
        "## Table of Contents\n",
        "\n",
        "### [Preface](00.00-Preface.ipynb)\n",
        "\n",
        "### [1. IPython: Beyond Normal Python](01.00-IPython-Beyond-Normal-Python.ipynb)\n",
        "- [Help and Documentation in IPython](01.01-Help-And-Documentation.ipynb)\n",
        "- [Keyboard Shortcuts in the IPython Shell](01.02-Shell-Keyboard-Shortcuts.ipynb)\n",
        "- [IPython Magic Commands](01.03-Magic-Commands.ipynb)\n",
        "- [Input and Output History](01.04-Input-Output-History.ipynb)\n",
        "- [IPython and Shell Commands](01.05-IPython-And-Shell-Commands.ipynb)\n",
        "- [Errors and Debugging](01.06-Errors-and-Debugging.ipynb)\n",
        "- [Profiling and Timing Code](01.07-Timing-and-Profiling.ipynb)\n",
        "- [More IPython Resources](01.08-More-IPython-Resources.ipynb)\n",
        "\n",
        "### [2. Introduction to NumPy](02.00-Introduction-to-NumPy.ipynb)\n",
        "- [Understanding Data Types in Python](02.01-Understanding-Data-Types.ipynb)\n",
        "- [The Basics of NumPy Arrays](02.02-The-Basics-Of-NumPy-Arrays.ipynb)\n",
        "- [Computation on NumPy Arrays: Universal Functions](02.03-Computation-on-arrays-ufuncs.ipynb)\n",
        "- [Aggregations: Min, Max, and Everything In Between](02.04-Computation-on-arrays-aggregates.ipynb)\n",
        "- [Computation on Arrays: Broadcasting](02.05-Computation-on-arrays-broadcasting.ipynb)\n",
        "- [Comparisons, Masks, and Boolean Logic](02.06-Boolean-Arrays-and-Masks.ipynb)\n",
        "- [Fancy Indexing](02.07-Fancy-Indexing.ipynb)\n",
        "- [Sorting Arrays](02.08-Sorting.ipynb)\n",
        "- [Structured Data: NumPy's Structured Arrays](02.09-Structured-Data-NumPy.ipynb)\n",
        "\n",
        "### [3. Data Manipulation with Pandas](03.00-Introduction-to-Pandas.ipynb)\n",
        "- [Introducing Pandas Objects](03.01-Introducing-Pandas-Objects.ipynb)\n",
        "- [Data Indexing and Selection](03.02-Data-Indexing-and-Selection.ipynb)\n",
        "- [Operating on Data in Pandas](03.03-Operations-in-Pandas.ipynb)\n",
        "- [Handling Missing Data](03.04-Missing-Values.ipynb)\n",
        "- [Hierarchical Indexing](03.05-Hierarchical-Indexing.ipynb)\n",
        "- [Combining Datasets: Concat and Append](03.06-Concat-And-Append.ipynb)\n",
        "- [Combining Datasets: Merge and Join](03.07-Merge-and-Join.ipynb)\n",
        "- [Aggregation and Grouping](03.08-Aggregation-and-Grouping.ipynb)\n",
        "- [Pivot Tables](03.09-Pivot-Tables.ipynb)\n",
        "- [Vectorized String Operations](03.10-Working-With-Strings.ipynb)\n",
        "- [Working with Time Series](03.11-Working-with-Time-Series.ipynb)\n",
        "- [High-Performance Pandas: eval() and query()](03.12-Performance-Eval-and-Query.ipynb)\n",
        "- [Further Resources](03.13-Further-Resources.ipynb)\n",
        "\n",
        "### [4. Visualization with Matplotlib](04.00-Introduction-To-Matplotlib.ipynb)\n",
        "- [Simple Line Plots](04.01-Simple-Line-Plots.ipynb)\n",
        "- [Simple Scatter Plots](04.02-Simple-Scatter-Plots.ipynb)\n",
        "- [Visualizing Errors](04.03-Errorbars.ipynb)\n",
        "- [Density and Contour Plots](04.04-Density-and-Contour-Plots.ipynb)\n",
        "- [Histograms, Binnings, and Density](04.05-Histograms-and-Binnings.ipynb)\n",
        "- [Customizing Plot Legends](04.06-Customizing-Legends.ipynb)\n",
        "- [Customizing Colorbars](04.07-Customizing-Colorbars.ipynb)\n",
        "- [Multiple Subplots](04.08-Multiple-Subplots.ipynb)\n",
        "- [Text and Annotation](04.09-Text-and-Annotation.ipynb)\n",
        "- [Customizing Ticks](04.10-Customizing-Ticks.ipynb)\n",
        "- [Customizing Matplotlib: Configurations and Stylesheets](04.11-Settings-and-Stylesheets.ipynb)\n",
        "- [Three-Dimensional Plotting in Matplotlib](04.12-Three-Dimensional-Plotting.ipynb)\n",
        "- [Geographic Data with Basemap](04.13-Geographic-Data-With-Basemap.ipynb)\n",
        "- [Visualization with Seaborn](04.14-Visualization-With-Seaborn.ipynb)\n",
        "- [Further Resources](04.15-Further-Resources.ipynb)\n",
        "\n",
        "### [5. Machine Learning](05.00-Machine-Learning.ipynb)\n",
        "- [What Is Machine Learning?](05.01-What-Is-Machine-Learning.ipynb)\n",
        "- [Introducing Scikit-Learn](05.02-Introducing-Scikit-Learn.ipynb)\n",
        "- [Hyperparameters and Model Validation](05.03-Hyperparameters-and-Model-Validation.ipynb)\n",
        "- [Feature Engineering](05.04-Feature-Engineering.ipynb)\n",
        "- [In Depth: Naive Bayes Classification](05.05-Naive-Bayes.ipynb)\n",
        "- [In Depth: Linear Regression](05.06-Linear-Regression.ipynb)\n",
        "- [In-Depth: Support Vector Machines](05.07-Support-Vector-Machines.ipynb)\n",
        "- [In-Depth: Decision Trees and Random Forests](05.08-Random-Forests.ipynb)\n",
        "- [In Depth: Principal Component Analysis](05.09-Principal-Component-Analysis.ipynb)\n",
        "- [In-Depth: Manifold Learning](05.10-Manifold-Learning.ipynb)\n",
        "- [In Depth: k-Means Clustering](05.11-K-Means.ipynb)\n",
        "- [In Depth: Gaussian Mixture Models](05.12-Gaussian-Mixtures.ipynb)\n",
        "- [In-Depth: Kernel Density Estimation](05.13-Kernel-Density-Estimation.ipynb)\n",
        "- [Application: A Face Detection Pipeline](05.14-Image-Features.ipynb)\n",
        "- [Further Machine Learning Resources](05.15-Learning-More.ipynb)\n",
        "\n",
        "### [Appendix: Figure Code](06.00-Figure-Code.ipynb)"
      ]
    }
  ]
}